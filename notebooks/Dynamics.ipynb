{
 "cells": [
  {
   "cell_type": "code",
   "execution_count": 1,
   "metadata": {},
   "outputs": [],
   "source": [
    "import numpy as np\n",
    "import pandas as pd\n",
    "import sympy as sym"
   ]
  },
  {
   "cell_type": "code",
   "execution_count": 2,
   "metadata": {},
   "outputs": [],
   "source": [
    "sym.init_printing()"
   ]
  },
  {
   "cell_type": "markdown",
   "metadata": {},
   "source": [
    "# Dynamics of a double pendulum"
   ]
  },
  {
   "cell_type": "markdown",
   "metadata": {},
   "source": [
    "The system can be described by the two centers of masses $m_1$, $m_2$ resp. $\\vec{r}_1=\\begin{pmatrix}x_1 \\\\ y_1\\end{pmatrix}$, $\\vec{r}_2=\\begin{pmatrix}x_2 \\\\ y_2\\end{pmatrix}$\n",
    "\n",
    "As the two arms of the pendulum are of constant length $l_1$, $l_2$ it is convient to described the system by the two angles $\\theta_1$ and $\\theta_2$.\n",
    "\n",
    "In this case we have\n",
    "\n",
    "$x_1 = l_1\\cos{\\theta_1}$, $y_1 = l_1\\sin{\\theta_1}$ \n",
    "\n",
    "$x_2 = x_1 + l_2\\cos{\\theta_2} = l_1\\cos{\\theta_1} + l_2\\cos{\\theta_2}$, $y_2 = y_1 + l_2\\sin{\\theta_2} = l_1\\sin{\\theta_1}+ l_2\\sin{\\theta_2}$"
   ]
  },
  {
   "cell_type": "code",
   "execution_count": 82,
   "metadata": {},
   "outputs": [],
   "source": [
    "x1, x2, y1, y2 = sym.symbols(\"x_1, x_2, y_1, y_2\")"
   ]
  },
  {
   "cell_type": "code",
   "execution_count": 3,
   "metadata": {},
   "outputs": [],
   "source": [
    "l1, l2, m1, m2, t1, t2 = sym.symbols(\"l_1, l_2, m_1, m_2, theta_1, theta_2\")"
   ]
  },
  {
   "cell_type": "code",
   "execution_count": 83,
   "metadata": {},
   "outputs": [],
   "source": [
    "w1, w2 = sym.symbols(\"omega_1, omega_2\")"
   ]
  },
  {
   "cell_type": "code",
   "execution_count": 90,
   "metadata": {},
   "outputs": [],
   "source": [
    "x1 = l1*sym.cos(t1)\n",
    "y1 = l1*sym.sin(t1)\n",
    "x2 = x1 + l2*sym.cos(t2)\n",
    "y2 = y1 + l2*sym.sin(t2)"
   ]
  },
  {
   "cell_type": "code",
   "execution_count": 91,
   "metadata": {},
   "outputs": [],
   "source": [
    "r1 = sym.V([[x1],[y1]])\n",
    "r2 = sym.Matrix([[x2],[y2]])"
   ]
  },
  {
   "cell_type": "code",
   "execution_count": 116,
   "metadata": {},
   "outputs": [],
   "source": [
    "dr1dt = r1.diff(t1)*w1"
   ]
  },
  {
   "cell_type": "code",
   "execution_count": 117,
   "metadata": {},
   "outputs": [],
   "source": [
    "dr2dt = (r2.diff(t1)*w1+r2.diff(t2)*w2)"
   ]
  },
  {
   "cell_type": "code",
   "execution_count": 118,
   "metadata": {},
   "outputs": [
    {
     "data": {
      "image/png": "[encoded data removed]",
      "text/latex": [
       "$$l_{1}^{2} \\omega_{1}^{2}$$"
      ],
      "text/plain": [
       "  2   2\n",
       "l₁ ⋅ω₁ "
      ]
     },
     "execution_count": 118,
     "metadata": {},
     "output_type": "execute_result"
    }
   ],
   "source": [
    "(dr1dt[0]**2+dr1dt[1]**2).simplify()"
   ]
  },
  {
   "cell_type": "code",
   "execution_count": 119,
   "metadata": {},
   "outputs": [
    {
     "data": {
      "image/png": "[encoded data removed]",
      "text/latex": [
       "$$l_{1}^{2} \\omega_{1}^{2} + 2 l_{1} l_{2} \\omega_{1} \\omega_{2} \\cos{\\left (\\theta_{1} - \\theta_{2} \\right )} + l_{2}^{2} \\omega_{2}^{2}$$"
      ],
      "text/plain": [
       "  2   2                                  2   2\n",
       "l₁ ⋅ω₁  + 2⋅l₁⋅l₂⋅ω₁⋅ω₂⋅cos(θ₁ - θ₂) + l₂ ⋅ω₂ "
      ]
     },
     "execution_count": 119,
     "metadata": {},
     "output_type": "execute_result"
    }
   ],
   "source": [
    "(dr2dt[0]**2+dr2dt[1]**2).simplify()"
   ]
  },
  {
   "cell_type": "markdown",
   "metadata": {},
   "source": [
    "## Kinentic Energy"
   ]
  },
  {
   "cell_type": "markdown",
   "metadata": {},
   "source": [
    "The kinetic energy of the system is accordingly composed of the to terms\n",
    "\n",
    "$ T = T_1 + T_2$ \n",
    "\n",
    "with $ T_1 = \\frac{1}{2}m_1\\dot{\\vec{r}}_1^2 = \\frac{1}{2}m_1\\begin{pmatrix}-l_1\\dot{\\theta_1}\\cos{\\theta_1} \\\\ l_1\\dot{\\theta_1}\\cos{\\theta_1}\\end{pmatrix}^2 = \\frac{1}{2}m_1l_1^2\\dot{\\theta_1}^2$\n",
    "\n",
    "and $ T_2 = \\frac{1}{2}m_2\\dot{\\vec{r}}_2^2 = \\frac{1}{2}m_2\\left(\\dot{\\vec{r}}_1+\\begin{pmatrix}-l_2\\dot{\\theta_2}\\cos{\\theta_2} \\\\ l_2\\dot{\\theta_2}\\cos{\\theta_2}\\end{pmatrix}\\right)^2 = \\frac{1}{2}m_2l_1^2\\dot{\\theta_1}^2+ \\frac{1}{2}m_2l_2^2\\dot{\\theta_2}^2+ m_2l_2l_1\\dot{\\theta_1}\\dot{\\theta_2}\\cos{\\left(\\theta_1-\\theta_2\\right)}$"
   ]
  },
  {
   "cell_type": "markdown",
   "metadata": {},
   "source": [
    "$T = \\frac{1}{2}(m_1+m_2)l_1^2\\dot{\\theta_1}^2+ \\frac{1}{2}m_2l_2^2\\dot{\\theta_2}^2+ m_2l_2l_1\\dot{\\theta_1}\\dot{\\theta_2}\\cos{\\left(\\theta_1-\\theta_2\\right)}$"
   ]
  },
  {
   "cell_type": "code",
   "execution_count": 29,
   "metadata": {},
   "outputs": [
    {
     "data": {
      "image/png": "[encoded data removed]",
      "text/latex": [
       "$$l_{1}^{2} \\omega_{1}^{2} \\left(0.5 m_{1} + 0.5 m_{2}\\right) + l_{1} l_{2} m_{2} \\omega_{1} \\omega_{2} \\cos{\\left (\\theta_{1} - \\theta_{2} \\right )} + 0.5 l_{2}^{2} m_{2} \\omega_{2}^{2}$$"
      ],
      "text/plain": [
       "  2   2                                                         2      2\n",
       "l₁ ⋅ω₁ ⋅(0.5⋅m₁ + 0.5⋅m₂) + l₁⋅l₂⋅m₂⋅ω₁⋅ω₂⋅cos(θ₁ - θ₂) + 0.5⋅l₂ ⋅m₂⋅ω₂ "
      ]
     },
     "execution_count": 29,
     "metadata": {},
     "output_type": "execute_result"
    }
   ],
   "source": [
    "T = 1/2*(m1 + m2)*l1**2*w1**2 + 1/2*m2*l2**2*w2**2 + m2*l1*l2*w1*w2*sym.cos(t1-t2)\n",
    "T"
   ]
  },
  {
   "cell_type": "code",
   "execution_count": 128,
   "metadata": {},
   "outputs": [],
   "source": [
    "T = ((m1*(dr1dt[0]**2+dr1dt[1]**2)/2+m2*(dr2dt[0]**2+dr2dt[1]**2)/2)).simplify()"
   ]
  },
  {
   "cell_type": "markdown",
   "metadata": {},
   "source": [
    "## Potential energy"
   ]
  },
  {
   "cell_type": "markdown",
   "metadata": {},
   "source": [
    "The potential energy of a mass $m$ in the field of gravity is $V = m\\cdot g \\cdot h$ where $g\\approx \\mathrm{9.81}\\frac{\\mathrm{m}}{\\mathrm{s}^2}$ is the earth gravity"
   ]
  },
  {
   "cell_type": "markdown",
   "metadata": {},
   "source": [
    "This yields the two contribution from the two pendulum's masses\n",
    "\n",
    "$V = V_1+V_2$\n",
    "\n",
    "with $V_1 = m_1gl_1\\sin\\theta_1$\n",
    "\n",
    "and $V_2 = m_2g\\left(l_1\\sin\\theta_1+l_2\\sin\\theta_2\\right)$\n"
   ]
  },
  {
   "cell_type": "markdown",
   "metadata": {},
   "source": [
    "$V = (m_1+m_2)gl_1\\sin\\theta_1+m_2gl_2\\sin\\theta_2$"
   ]
  },
  {
   "cell_type": "code",
   "execution_count": 129,
   "metadata": {},
   "outputs": [],
   "source": [
    "g = sym.symbols(\"g\")"
   ]
  },
  {
   "cell_type": "code",
   "execution_count": 130,
   "metadata": {},
   "outputs": [],
   "source": [
    "V = (m1 + m2)*g*l1*sym.sin(t1) + m2*g*l2*sym.sin(t2)"
   ]
  },
  {
   "cell_type": "markdown",
   "metadata": {},
   "source": [
    "## Lagrangian"
   ]
  },
  {
   "cell_type": "markdown",
   "metadata": {},
   "source": [
    "The dynamics can therefor be described by the Langrangian $L = T-V$ where we use the general coordinates $q_1:=\\theta_1$ and $q_2:=\\theta_2$"
   ]
  },
  {
   "cell_type": "markdown",
   "metadata": {},
   "source": [
    "$L = \\frac{1}{2}(m_1+m_2)l_1^2\\dot{q_1}^2+ \\frac{1}{2}m_2l_2^2\\dot{q_2}^2+m_2l_2l_1\\dot{q_1}\\dot{q_2}\\cos{\\left(q_1-q_2\\right)} - (m_1+m_2)gl_1\\sin q_1+m_2gl_2\\sin q_2$"
   ]
  },
  {
   "cell_type": "code",
   "execution_count": 131,
   "metadata": {},
   "outputs": [],
   "source": [
    "L = T-V"
   ]
  },
  {
   "cell_type": "code",
   "execution_count": 132,
   "metadata": {},
   "outputs": [],
   "source": [
    "q1, q2 = sym.symbols(\"q_1 q_2\")"
   ]
  },
  {
   "cell_type": "code",
   "execution_count": 133,
   "metadata": {},
   "outputs": [],
   "source": [
    "L = L.subs({t1:q1,t2:q2})"
   ]
  },
  {
   "cell_type": "markdown",
   "metadata": {},
   "source": [
    "### Generalized momenta"
   ]
  },
  {
   "cell_type": "markdown",
   "metadata": {},
   "source": [
    "The generalized momenta for the general coordinates are given by the paritial derivatives \n",
    "\n",
    "$p_1 = \\frac{\\partial L}{\\partial \\dot{q}_1}$ and $p_2 = \\frac{\\partial L}{\\partial \\dot{q}_2}$"
   ]
  },
  {
   "cell_type": "markdown",
   "metadata": {},
   "source": [
    "$p_1 = l_1^2(m_1+m_2)\\dot{q}_1+l_1l_2m_2\\cos{(q_1-q_2)}\\dot{q}_2$"
   ]
  },
  {
   "cell_type": "markdown",
   "metadata": {},
   "source": [
    "$p_2 = l_1l_2m_2\\cos{(q_1-q_2)}\\dot{q}_1+l_2^2m_2\\dot{q}_2$"
   ]
  },
  {
   "cell_type": "code",
   "execution_count": 134,
   "metadata": {},
   "outputs": [],
   "source": [
    "p1 = sym.Derivative(L,w1).doit().simplify()\n",
    "p2 = sym.Derivative(L,w2).doit().simplify()"
   ]
  },
  {
   "cell_type": "code",
   "execution_count": 135,
   "metadata": {},
   "outputs": [
    {
     "data": {
      "image/png": "[encoded data removed]",
      "text/latex": [
       "$$l_{2} m_{2} \\left(l_{1} \\omega_{1} \\cos{\\left (q_{1} - q_{2} \\right )} + l_{2} \\omega_{2}\\right)$$"
      ],
      "text/plain": [
       "l₂⋅m₂⋅(l₁⋅ω₁⋅cos(q₁ - q₂) + l₂⋅ω₂)"
      ]
     },
     "execution_count": 135,
     "metadata": {},
     "output_type": "execute_result"
    }
   ],
   "source": [
    "p2"
   ]
  },
  {
   "cell_type": "code",
   "execution_count": 136,
   "metadata": {},
   "outputs": [
    {
     "data": {
      "image/png": "[encoded data removed]",
      "text/latex": [
       "$$l_{1} \\left(l_{1} m_{1} \\omega_{1} + m_{2} \\left(l_{1} \\omega_{1} + l_{2} \\omega_{2} \\cos{\\left (q_{1} - q_{2} \\right )}\\right)\\right)$$"
      ],
      "text/plain": [
       "l₁⋅(l₁⋅m₁⋅ω₁ + m₂⋅(l₁⋅ω₁ + l₂⋅ω₂⋅cos(q₁ - q₂)))"
      ]
     },
     "execution_count": 136,
     "metadata": {},
     "output_type": "execute_result"
    }
   ],
   "source": [
    "p1"
   ]
  },
  {
   "cell_type": "markdown",
   "metadata": {},
   "source": [
    "## Hamiltonian"
   ]
  },
  {
   "cell_type": "markdown",
   "metadata": {},
   "source": [
    "For getting the Hamiltonian $H=H\\left(q_i,p_i\\right)$ of the system we have to invert the generalized momenta to be expressed in terms of $p_i=p_i\\left(q_i,\\dot{q}_i\\right)$. \n",
    "\n",
    "In order to to the we notice the following:\n",
    "\n",
    "$p = \\begin{pmatrix} p_1 \\\\ p_2 \\end{pmatrix} = B \\cdot \\begin{pmatrix}\\dot{q}_1 \\\\ \\dot{p}_2\\end{pmatrix}$\n",
    "\n",
    "$\\begin{pmatrix}\\dot{q}_1 \\\\ \\dot{p}_2\\end{pmatrix} = B^{-1}\\cdot p$"
   ]
  },
  {
   "cell_type": "code",
   "execution_count": 137,
   "metadata": {},
   "outputs": [
    {
     "data": {
      "image/png": "[encoded data removed]",
      "text/latex": [
       "$$\\left[\\begin{matrix}l_{1}^{2} \\left(m_{1} + m_{2}\\right) & l_{1} l_{2} m_{2} \\cos{\\left (q_{1} - q_{2} \\right )}\\\\l_{1} l_{2} m_{2} \\cos{\\left (q_{1} - q_{2} \\right )} & l_{2}^{2} m_{2}\\end{matrix}\\right]$$"
      ],
      "text/plain": [
       "⎡      2                                     ⎤\n",
       "⎢    l₁ ⋅(m₁ + m₂)      l₁⋅l₂⋅m₂⋅cos(q₁ - q₂)⎥\n",
       "⎢                                            ⎥\n",
       "⎢                                2           ⎥\n",
       "⎣l₁⋅l₂⋅m₂⋅cos(q₁ - q₂)         l₂ ⋅m₂        ⎦"
      ]
     },
     "execution_count": 137,
     "metadata": {},
     "output_type": "execute_result"
    }
   ],
   "source": [
    "B = sym.Matrix([[l1**2*(m1+m2), l1*l2*m2*sym.cos(q1-q2)],\n",
    "           [l1*l2*m2*sym.cos(q1-q2), l2**2*m2]])\n",
    "B"
   ]
  },
  {
   "cell_type": "markdown",
   "metadata": {},
   "source": [
    "We can invert this relation by inverting the matrix"
   ]
  },
  {
   "cell_type": "code",
   "execution_count": 138,
   "metadata": {},
   "outputs": [],
   "source": [
    "p1, p2 = sym.symbols('p_1 p_2')"
   ]
  },
  {
   "cell_type": "code",
   "execution_count": 139,
   "metadata": {},
   "outputs": [],
   "source": [
    "w = B.inv()*sym.Matrix([[p1],[p2]])"
   ]
  },
  {
   "cell_type": "markdown",
   "metadata": {},
   "source": [
    "Now we can apply the Legendre-Transformation $H\\left(q_i,p_i\\right)=\\sum_{i=1}^{n}\\dot{q}_ip_i - L\\left(q_i, \\dot{q}_i\\left(q_i,p_i\\right)\\right)$"
   ]
  },
  {
   "cell_type": "code",
   "execution_count": 140,
   "metadata": {},
   "outputs": [],
   "source": [
    "H = p1*w[0]+p2*w[1]-L.subs({w1:w[0],w2:w[1]}).simplify()"
   ]
  },
  {
   "cell_type": "markdown",
   "metadata": {},
   "source": [
    "# Equations of Motion"
   ]
  },
  {
   "cell_type": "markdown",
   "metadata": {},
   "source": [
    "The equations of motion can be derived from the Hamiltonion by"
   ]
  },
  {
   "cell_type": "markdown",
   "metadata": {},
   "source": [
    "$\\dot{q}_i=\\frac{\\partial H}{\\partial p_i}$\n",
    "\n",
    "$\\dot{p}_i=-\\frac{\\partial H}{\\partial q_i}$"
   ]
  },
  {
   "cell_type": "code",
   "execution_count": 141,
   "metadata": {},
   "outputs": [
    {
     "data": {
      "image/png": "[encoded data removed]",
      "text/latex": [
       "$$\\frac{l_{1} p_{2} \\cos{\\left (q_{1} - q_{2} \\right )} - l_{2} p_{1}}{l_{1}^{2} l_{2} \\left(- m_{1} + m_{2} \\cos^{2}{\\left (q_{1} - q_{2} \\right )} - m_{2}\\right)}$$"
      ],
      "text/plain": [
       "     l₁⋅p₂⋅cos(q₁ - q₂) - l₂⋅p₁     \n",
       "────────────────────────────────────\n",
       "  2    ⎛            2              ⎞\n",
       "l₁ ⋅l₂⋅⎝-m₁ + m₂⋅cos (q₁ - q₂) - m₂⎠"
      ]
     },
     "execution_count": 141,
     "metadata": {},
     "output_type": "execute_result"
    }
   ],
   "source": [
    "dq1dt = sym.Derivative(H,p1).doit().simplify()\n",
    "dq1dt"
   ]
  },
  {
   "cell_type": "code",
   "execution_count": 142,
   "metadata": {},
   "outputs": [
    {
     "data": {
      "image/png": "[encoded data removed]",
      "text/latex": [
       "$$\\frac{- l_{1} m_{1} p_{2} - l_{1} m_{2} p_{2} + l_{2} m_{2} p_{1} \\cos{\\left (q_{1} - q_{2} \\right )}}{l_{1} l_{2}^{2} m_{2} \\left(- m_{1} + m_{2} \\cos^{2}{\\left (q_{1} - q_{2} \\right )} - m_{2}\\right)}$$"
      ],
      "text/plain": [
       "-l₁⋅m₁⋅p₂ - l₁⋅m₂⋅p₂ + l₂⋅m₂⋅p₁⋅cos(q₁ - q₂)\n",
       "────────────────────────────────────────────\n",
       "       2    ⎛            2              ⎞   \n",
       "  l₁⋅l₂ ⋅m₂⋅⎝-m₁ + m₂⋅cos (q₁ - q₂) - m₂⎠   "
      ]
     },
     "execution_count": 142,
     "metadata": {},
     "output_type": "execute_result"
    }
   ],
   "source": [
    "dq2dt = sym.Derivative(H,p2).doit().simplify()\n",
    "dq2dt"
   ]
  },
  {
   "cell_type": "code",
   "execution_count": 143,
   "metadata": {},
   "outputs": [
    {
     "data": {
      "image/png": "[encoded data removed]",
      "text/latex": [
       "$$- \\frac{1}{l_{1}^{2} l_{2}^{2} \\left(m_{1}^{2} - 2 m_{1} m_{2} \\cos^{2}{\\left (q_{1} - q_{2} \\right )} + 2 m_{1} m_{2} + m_{2}^{2} \\cos^{4}{\\left (q_{1} - q_{2} \\right )} - 2 m_{2}^{2} \\cos^{2}{\\left (q_{1} - q_{2} \\right )} + m_{2}^{2}\\right)} \\left(g l_{1}^{3} l_{2}^{2} m_{1}^{3} \\cos{\\left (q_{1} \\right )} - 2 g l_{1}^{3} l_{2}^{2} m_{1}^{2} m_{2} \\cos{\\left (q_{1} \\right )} \\cos^{2}{\\left (q_{1} - q_{2} \\right )} + 3 g l_{1}^{3} l_{2}^{2} m_{1}^{2} m_{2} \\cos{\\left (q_{1} \\right )} + g l_{1}^{3} l_{2}^{2} m_{1} m_{2}^{2} \\cos{\\left (q_{1} \\right )} \\cos^{4}{\\left (q_{1} - q_{2} \\right )} - 4 g l_{1}^{3} l_{2}^{2} m_{1} m_{2}^{2} \\cos{\\left (q_{1} \\right )} \\cos^{2}{\\left (q_{1} - q_{2} \\right )} + 3 g l_{1}^{3} l_{2}^{2} m_{1} m_{2}^{2} \\cos{\\left (q_{1} \\right )} + g l_{1}^{3} l_{2}^{2} m_{2}^{3} \\cos{\\left (q_{1} \\right )} \\cos^{4}{\\left (q_{1} - q_{2} \\right )} - 2 g l_{1}^{3} l_{2}^{2} m_{2}^{3} \\cos{\\left (q_{1} \\right )} \\cos^{2}{\\left (q_{1} - q_{2} \\right )} + g l_{1}^{3} l_{2}^{2} m_{2}^{3} \\cos{\\left (q_{1} \\right )} - \\frac{l_{1}^{2} m_{1}}{2} p_{2}^{2} \\sin{\\left (2 q_{1} - 2 q_{2} \\right )} - \\frac{l_{1}^{2} m_{2}}{2} p_{2}^{2} \\sin{\\left (2 q_{1} - 2 q_{2} \\right )} + l_{1} l_{2} m_{1} p_{1} p_{2} \\sin{\\left (q_{1} - q_{2} \\right )} + l_{1} l_{2} m_{2} p_{1} p_{2} \\sin{\\left (q_{1} - q_{2} \\right )} \\cos^{2}{\\left (q_{1} - q_{2} \\right )} + l_{1} l_{2} m_{2} p_{1} p_{2} \\sin{\\left (q_{1} - q_{2} \\right )} - \\frac{l_{2}^{2} m_{2}}{2} p_{1}^{2} \\sin{\\left (2 q_{1} - 2 q_{2} \\right )}\\right)$$"
      ],
      "text/plain": [
       " ⎛                                                                            \n",
       " ⎜    3   2   3                 3   2   2               2                  3  \n",
       "-⎜g⋅l₁ ⋅l₂ ⋅m₁ ⋅cos(q₁) - 2⋅g⋅l₁ ⋅l₂ ⋅m₁ ⋅m₂⋅cos(q₁)⋅cos (q₁ - q₂) + 3⋅g⋅l₁ ⋅l\n",
       " ⎝                                                                            \n",
       "──────────────────────────────────────────────────────────────────────────────\n",
       "                                                                              \n",
       "                                                                              \n",
       "\n",
       "                                                                              \n",
       " 2   2                  3   2      2            4                  3   2      \n",
       "₂ ⋅m₁ ⋅m₂⋅cos(q₁) + g⋅l₁ ⋅l₂ ⋅m₁⋅m₂ ⋅cos(q₁)⋅cos (q₁ - q₂) - 4⋅g⋅l₁ ⋅l₂ ⋅m₁⋅m₂\n",
       "                                                                              \n",
       "──────────────────────────────────────────────────────────────────────────────\n",
       "                                                                              \n",
       "                                                                              \n",
       "\n",
       "                                                                              \n",
       "2            2                  3   2      2               3   2   3          \n",
       " ⋅cos(q₁)⋅cos (q₁ - q₂) + 3⋅g⋅l₁ ⋅l₂ ⋅m₁⋅m₂ ⋅cos(q₁) + g⋅l₁ ⋅l₂ ⋅m₂ ⋅cos(q₁)⋅c\n",
       "                                                                              \n",
       "──────────────────────────────────────────────────────────────────────────────\n",
       "                                                   2   2 ⎛  2              2  \n",
       "                                                 l₁ ⋅l₂ ⋅⎝m₁  - 2⋅m₁⋅m₂⋅cos (q\n",
       "\n",
       "                                                                              \n",
       "  4                  3   2   3            2                3   2   3          \n",
       "os (q₁ - q₂) - 2⋅g⋅l₁ ⋅l₂ ⋅m₂ ⋅cos(q₁)⋅cos (q₁ - q₂) + g⋅l₁ ⋅l₂ ⋅m₂ ⋅cos(q₁) -\n",
       "                                                                              \n",
       "──────────────────────────────────────────────────────────────────────────────\n",
       "                      2    4                2    2              2⎞            \n",
       "₁ - q₂) + 2⋅m₁⋅m₂ + m₂ ⋅cos (q₁ - q₂) - 2⋅m₂ ⋅cos (q₁ - q₂) + m₂ ⎠            \n",
       "\n",
       "   2      2                      2      2                                     \n",
       " l₁ ⋅m₁⋅p₂ ⋅sin(2⋅q₁ - 2⋅q₂)   l₁ ⋅m₂⋅p₂ ⋅sin(2⋅q₁ - 2⋅q₂)                    \n",
       " ─────────────────────────── - ─────────────────────────── + l₁⋅l₂⋅m₁⋅p₁⋅p₂⋅si\n",
       "              2                             2                                 \n",
       "──────────────────────────────────────────────────────────────────────────────\n",
       "                                                                              \n",
       "                                                                              \n",
       "\n",
       "                                                                              \n",
       "                                            2                                 \n",
       "n(q₁ - q₂) + l₁⋅l₂⋅m₂⋅p₁⋅p₂⋅sin(q₁ - q₂)⋅cos (q₁ - q₂) + l₁⋅l₂⋅m₂⋅p₁⋅p₂⋅sin(q₁\n",
       "                                                                              \n",
       "──────────────────────────────────────────────────────────────────────────────\n",
       "                                                                              \n",
       "                                                                              \n",
       "\n",
       "           2      2                 ⎞ \n",
       "         l₂ ⋅m₂⋅p₁ ⋅sin(2⋅q₁ - 2⋅q₂)⎟ \n",
       " - q₂) - ───────────────────────────⎟ \n",
       "                      2             ⎠ \n",
       "──────────────────────────────────────\n",
       "                                      \n",
       "                                      "
      ]
     },
     "execution_count": 143,
     "metadata": {},
     "output_type": "execute_result"
    }
   ],
   "source": [
    "dp1dt = -sym.Derivative(H,q1).doit().simplify()\n",
    "dp1dt"
   ]
  },
  {
   "cell_type": "code",
   "execution_count": 144,
   "metadata": {},
   "outputs": [
    {
     "data": {
      "image/png": "[encoded data removed]",
      "text/latex": [
       "$$- \\frac{1}{l_{1}^{2} l_{2}^{2} \\left(m_{1}^{2} - 2 m_{1} m_{2} \\cos^{2}{\\left (q_{1} - q_{2} \\right )} + 2 m_{1} m_{2} + m_{2}^{2} \\cos^{4}{\\left (q_{1} - q_{2} \\right )} - 2 m_{2}^{2} \\cos^{2}{\\left (q_{1} - q_{2} \\right )} + m_{2}^{2}\\right)} \\left(g l_{1}^{2} l_{2}^{3} m_{1}^{2} m_{2} \\cos{\\left (q_{2} \\right )} - 2 g l_{1}^{2} l_{2}^{3} m_{1} m_{2}^{2} \\cos{\\left (q_{2} \\right )} \\cos^{2}{\\left (q_{1} - q_{2} \\right )} + 2 g l_{1}^{2} l_{2}^{3} m_{1} m_{2}^{2} \\cos{\\left (q_{2} \\right )} + g l_{1}^{2} l_{2}^{3} m_{2}^{3} \\cos{\\left (q_{2} \\right )} \\cos^{4}{\\left (q_{1} - q_{2} \\right )} - 2 g l_{1}^{2} l_{2}^{3} m_{2}^{3} \\cos{\\left (q_{2} \\right )} \\cos^{2}{\\left (q_{1} - q_{2} \\right )} + g l_{1}^{2} l_{2}^{3} m_{2}^{3} \\cos{\\left (q_{2} \\right )} + \\frac{l_{1}^{2} m_{1}}{2} p_{2}^{2} \\sin{\\left (2 q_{1} - 2 q_{2} \\right )} + \\frac{l_{1}^{2} m_{2}}{2} p_{2}^{2} \\sin{\\left (2 q_{1} - 2 q_{2} \\right )} - l_{1} l_{2} m_{1} p_{1} p_{2} \\sin{\\left (q_{1} - q_{2} \\right )} - l_{1} l_{2} m_{2} p_{1} p_{2} \\sin{\\left (q_{1} - q_{2} \\right )} \\cos^{2}{\\left (q_{1} - q_{2} \\right )} - l_{1} l_{2} m_{2} p_{1} p_{2} \\sin{\\left (q_{1} - q_{2} \\right )} + \\frac{l_{2}^{2} m_{2}}{2} p_{1}^{2} \\sin{\\left (2 q_{1} - 2 q_{2} \\right )}\\right)$$"
      ],
      "text/plain": [
       " ⎛                                                                            \n",
       " ⎜    2   3   2                    2   3      2            2                  \n",
       "-⎜g⋅l₁ ⋅l₂ ⋅m₁ ⋅m₂⋅cos(q₂) - 2⋅g⋅l₁ ⋅l₂ ⋅m₁⋅m₂ ⋅cos(q₂)⋅cos (q₁ - q₂) + 2⋅g⋅l₁\n",
       " ⎝                                                                            \n",
       "──────────────────────────────────────────────────────────────────────────────\n",
       "                                                                              \n",
       "                                                                              \n",
       "\n",
       "                                                                              \n",
       "2   3      2               2   3   3            4                  2   3   3  \n",
       " ⋅l₂ ⋅m₁⋅m₂ ⋅cos(q₂) + g⋅l₁ ⋅l₂ ⋅m₂ ⋅cos(q₂)⋅cos (q₁ - q₂) - 2⋅g⋅l₁ ⋅l₂ ⋅m₂ ⋅c\n",
       "                                                                              \n",
       "──────────────────────────────────────────────────────────────────────────────\n",
       "                                                                          2   \n",
       "                                                                        l₁ ⋅l₂\n",
       "\n",
       "                                                 2      2                     \n",
       "          2                2   3   3           l₁ ⋅m₁⋅p₂ ⋅sin(2⋅q₁ - 2⋅q₂)   l\n",
       "os(q₂)⋅cos (q₁ - q₂) + g⋅l₁ ⋅l₂ ⋅m₂ ⋅cos(q₂) + ─────────────────────────── + ─\n",
       "                                                            2                 \n",
       "──────────────────────────────────────────────────────────────────────────────\n",
       "2 ⎛  2              2                        2    4                2    2     \n",
       " ⋅⎝m₁  - 2⋅m₁⋅m₂⋅cos (q₁ - q₂) + 2⋅m₁⋅m₂ + m₂ ⋅cos (q₁ - q₂) - 2⋅m₂ ⋅cos (q₁ -\n",
       "\n",
       " 2      2                                                                     \n",
       "₁ ⋅m₂⋅p₂ ⋅sin(2⋅q₁ - 2⋅q₂)                                                    \n",
       "────────────────────────── - l₁⋅l₂⋅m₁⋅p₁⋅p₂⋅sin(q₁ - q₂) - l₁⋅l₂⋅m₂⋅p₁⋅p₂⋅sin(\n",
       "            2                                                                 \n",
       "──────────────────────────────────────────────────────────────────────────────\n",
       "         2⎞                                                                   \n",
       " q₂) + m₂ ⎠                                                                   \n",
       "\n",
       "                                                         2      2             \n",
       "            2                                          l₂ ⋅m₂⋅p₁ ⋅sin(2⋅q₁ - 2\n",
       "q₁ - q₂)⋅cos (q₁ - q₂) - l₁⋅l₂⋅m₂⋅p₁⋅p₂⋅sin(q₁ - q₂) + ───────────────────────\n",
       "                                                                    2         \n",
       "──────────────────────────────────────────────────────────────────────────────\n",
       "                                                                              \n",
       "                                                                              \n",
       "\n",
       "    ⎞ \n",
       "⋅q₂)⎟ \n",
       "────⎟ \n",
       "    ⎠ \n",
       "──────\n",
       "      \n",
       "      "
      ]
     },
     "execution_count": 144,
     "metadata": {},
     "output_type": "execute_result"
    }
   ],
   "source": [
    "dp2dt = -sym.Derivative(H,q2).doit().simplify()\n",
    "dp2dt"
   ]
  },
  {
   "cell_type": "code",
   "execution_count": 146,
   "metadata": {},
   "outputs": [],
   "source": [
    "eom = sym.Matrix([dq1dt,dq2dt,dp1dt,dp2dt])"
   ]
  },
  {
   "cell_type": "markdown",
   "metadata": {},
   "source": [
    "## Symmetric pendulum"
   ]
  },
  {
   "cell_type": "code",
   "execution_count": 147,
   "metadata": {},
   "outputs": [],
   "source": [
    "l, m = sym.symbols('l m')"
   ]
  },
  {
   "cell_type": "code",
   "execution_count": 152,
   "metadata": {},
   "outputs": [],
   "source": [
    "Hsym = H.subs({m1:m,m2:m,l1:l,l2:l}).simplify()"
   ]
  },
  {
   "cell_type": "code",
   "execution_count": 156,
   "metadata": {},
   "outputs": [],
   "source": [
    "eom_sym = sym.Matrix([Hsym.diff(p1).simplify(),Hsym.diff(p2).simplify(),-Hsym.diff(q1).simplify(),-Hsym.diff(q2).simplify()])"
   ]
  },
  {
   "cell_type": "code",
   "execution_count": null,
   "metadata": {},
   "outputs": [],
   "source": []
  }
 ],
 "metadata": {
  "kernelspec": {
   "display_name": "Python 3",
   "language": "python",
   "name": "python3"
  },
  "language_info": {
   "codemirror_mode": {
    "name": "ipython",
    "version": 3
   },
   "file_extension": ".py",
   "mimetype": "text/x-python",
   "name": "python",
   "nbconvert_exporter": "python",
   "pygments_lexer": "ipython3",
   "version": "3.6.5"
  }
 },
 "nbformat": 4,
 "nbformat_minor": 2
}
